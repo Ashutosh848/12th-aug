{
  "nbformat": 4,
  "nbformat_minor": 0,
  "metadata": {
    "colab": {
      "provenance": []
    },
    "kernelspec": {
      "name": "python3",
      "display_name": "Python 3"
    },
    "language_info": {
      "name": "python"
    }
  },
  "cells": [
    {
      "cell_type": "code",
      "execution_count": null,
      "metadata": {
        "colab": {
          "base_uri": "https://localhost:8080/"
        },
        "id": "Bxp4xmLmfS6x",
        "outputId": "0fa3f6ce-689d-471d-eacd-ce1bd63d7e6f"
      },
      "outputs": [
        {
          "output_type": "stream",
          "name": "stdout",
          "text": [
            "1\n",
            "1\n",
            "1\n",
            "2\n",
            "[[0, 0, 0], [0, 0, 1], [0, 1, 0], [0, 1, 1], [1, 0, 0], [1, 0, 1], [1, 1, 0], [1, 1, 1]]\n"
          ]
        }
      ],
      "source": [
        "x = int(input())\n",
        "y = int(input())\n",
        "z = int(input())\n",
        "n = int(input())\n",
        "a =[[i,j,k]for i in range(x+1) for j in range(y+1) for k in range(z+1) if x+y+z !=n]\n",
        "print(a)"
      ]
    },
    {
      "cell_type": "code",
      "source": [
        "a = []\n",
        "n = int(input())\n",
        "\n",
        "for i in range(n):\n",
        "  val = int(input())\n",
        "  a.append(val)\n",
        "print(a)\n",
        "arr = list(set(a))\n",
        "arr.sort()\n",
        "print(arr[-2])\n"
      ],
      "metadata": {
        "colab": {
          "base_uri": "https://localhost:8080/"
        },
        "id": "ge7dtraIgZ_j",
        "outputId": "42bb05d0-6153-4170-8698-1db9408e3183"
      },
      "execution_count": null,
      "outputs": [
        {
          "output_type": "stream",
          "name": "stdout",
          "text": [
            "4\n",
            "12\n",
            "1\n",
            "43\n",
            "19\n",
            "[12, 1, 43, 19]\n",
            "19\n"
          ]
        }
      ]
    },
    {
      "cell_type": "code",
      "source": [
        "List = []\n",
        "s  = []\n",
        "for _ in range(int( input())):\n",
        "    name = input()\n",
        "    score= float( input())\n",
        "    List.append([name,score])\n",
        "    s.append( score)\n",
        "a = min(s)\n",
        "while(a in s):\n",
        "   s.remove(a)\n",
        "\n",
        "b = min(s)\n",
        "List.sort()\n",
        "for i in range(len(List)):\n",
        "     if(List[i][1]==b):\n",
        "           print(List[i][0])"
      ],
      "metadata": {
        "id": "2kOf7ueDkYvs"
      },
      "execution_count": null,
      "outputs": []
    },
    {
      "cell_type": "code",
      "source": [
        "n = int(input())\n",
        "list = []\n",
        "for i in range(n):\n",
        "  s = input().split()\n",
        "  for i in range(1,len(s)):\n",
        "    s[i] = int(s[i])\n",
        "    if s[0]=='append':\n",
        "      list.append(s[1])\n",
        "    elif s[0]=='insert':\n",
        "      list.insert(s[1],s[2])\n",
        "    elif s[0]=='remove':\n",
        "      list.remove(s[1])\n",
        "    elif s[0]=='pop':\n",
        "      list.pop()\n",
        "    elif s[0]=='sort':\n",
        "      list.sort()\n",
        "    elif s[0]=='reverse':\n",
        "      list.reverse()\n",
        "    elif(s[0]=='print'):\n",
        "      print(list)\n"
      ],
      "metadata": {
        "colab": {
          "base_uri": "https://localhost:8080/"
        },
        "id": "XKo1Osghvyr9",
        "outputId": "4eeb31ee-51f0-4ec8-cecf-1f62b9d05d1f"
      },
      "execution_count": null,
      "outputs": [
        {
          "name": "stdout",
          "output_type": "stream",
          "text": [
            "3\n",
            "ashu\n",
            "23\n",
            "akdj\n"
          ]
        }
      ]
    },
    {
      "cell_type": "code",
      "source": [],
      "metadata": {
        "id": "3EULG3Y2yVWA"
      },
      "execution_count": null,
      "outputs": []
    }
  ]
}